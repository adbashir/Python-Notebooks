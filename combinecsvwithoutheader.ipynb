{
 "cells": [
  {
   "cell_type": "code",
   "execution_count": 1,
   "metadata": {},
   "outputs": [],
   "source": [
    "import glob\n",
    "import csv\n",
    "interesting_files = glob.glob(\"solar_test/*.csv\") \n",
    "\n",
    "header_saved = False\n",
    "with open('all_separate_date_solar.csv', 'w') as fout:\n",
    "    writer = csv.writer(fout)\n",
    "    for filename in interesting_files:\n",
    "        with open(filename) as fin:\n",
    "            header =  next(fin)\n",
    "            if not header_saved:\n",
    "                writer.writerows(header) # you may need to work here. The writerows require an iterable.\n",
    "                header_saved = True\n",
    "            writer.writerows(fin.readlines())"
   ]
  },
  {
   "cell_type": "code",
   "execution_count": null,
   "metadata": {},
   "outputs": [],
   "source": []
  }
 ],
 "metadata": {
  "kernelspec": {
   "display_name": "Python 3",
   "language": "python",
   "name": "python3"
  },
  "language_info": {
   "name": ""
  }
 },
 "nbformat": 4,
 "nbformat_minor": 4
}
